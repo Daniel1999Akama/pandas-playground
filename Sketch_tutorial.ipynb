{
 "cells": [
  {
   "cell_type": "markdown",
   "id": "0f91d09b-e9af-44ce-afcf-d37f5d80705d",
   "metadata": {},
   "source": [
    "# Sketch Tutorial\n",
    "\n",
    "Sketch is an AI code writing assistant for pandas users that understands the context of your data, greatly improving the relevance of suggestions. Sketch is usable in seconds and doesn't require adding a plugin to your IDE."
   ]
  },
  {
   "cell_type": "code",
   "execution_count": 24,
   "id": "55e5b3c5-e902-4f72-ac3c-1374545cb12f",
   "metadata": {},
   "outputs": [],
   "source": [
    "# uncomment and run the cell below to install sketch\n",
    "#pip install sketch"
   ]
  },
  {
   "cell_type": "code",
   "execution_count": 26,
   "id": "4604515d-baea-49ba-a858-35de557d4c79",
   "metadata": {},
   "outputs": [],
   "source": [
    "# import libs\n",
    "\n",
    "import pandas as pd\n",
    "import sketch\n",
    "import matplotlib.pyplot as plt"
   ]
  },
  {
   "cell_type": "code",
   "execution_count": 3,
   "id": "7551dd5a-4727-4f61-98c8-b149080d79c3",
   "metadata": {},
   "outputs": [
    {
     "data": {
      "text/html": [
       "<div>\n",
       "<style scoped>\n",
       "    .dataframe tbody tr th:only-of-type {\n",
       "        vertical-align: middle;\n",
       "    }\n",
       "\n",
       "    .dataframe tbody tr th {\n",
       "        vertical-align: top;\n",
       "    }\n",
       "\n",
       "    .dataframe thead th {\n",
       "        text-align: right;\n",
       "    }\n",
       "</style>\n",
       "<table border=\"1\" class=\"dataframe\">\n",
       "  <thead>\n",
       "    <tr style=\"text-align: right;\">\n",
       "      <th></th>\n",
       "      <th>Invoice ID</th>\n",
       "      <th>Branch</th>\n",
       "      <th>City</th>\n",
       "      <th>Customer_type</th>\n",
       "      <th>Gender</th>\n",
       "      <th>Product line</th>\n",
       "      <th>Unit price</th>\n",
       "      <th>Quantity</th>\n",
       "      <th>Tax 5%</th>\n",
       "      <th>Total</th>\n",
       "      <th>Date</th>\n",
       "      <th>Time</th>\n",
       "      <th>Payment</th>\n",
       "      <th>cogs</th>\n",
       "      <th>gross margin percentage</th>\n",
       "      <th>gross income</th>\n",
       "      <th>Rating</th>\n",
       "    </tr>\n",
       "  </thead>\n",
       "  <tbody>\n",
       "    <tr>\n",
       "      <th>0</th>\n",
       "      <td>750-67-8428</td>\n",
       "      <td>A</td>\n",
       "      <td>Yangon</td>\n",
       "      <td>Member</td>\n",
       "      <td>Female</td>\n",
       "      <td>Health and beauty</td>\n",
       "      <td>74.69</td>\n",
       "      <td>7</td>\n",
       "      <td>26.1415</td>\n",
       "      <td>548.9715</td>\n",
       "      <td>1/5/2021</td>\n",
       "      <td>13:08</td>\n",
       "      <td>Ewallet</td>\n",
       "      <td>522.83</td>\n",
       "      <td>4.761905</td>\n",
       "      <td>26.1415</td>\n",
       "      <td>9.1</td>\n",
       "    </tr>\n",
       "    <tr>\n",
       "      <th>1</th>\n",
       "      <td>226-31-3081</td>\n",
       "      <td>C</td>\n",
       "      <td>Naypyitaw</td>\n",
       "      <td>Normal</td>\n",
       "      <td>Female</td>\n",
       "      <td>Electronic accessories</td>\n",
       "      <td>15.28</td>\n",
       "      <td>5</td>\n",
       "      <td>3.8200</td>\n",
       "      <td>80.2200</td>\n",
       "      <td>3/8/2021</td>\n",
       "      <td>10:29</td>\n",
       "      <td>Cash</td>\n",
       "      <td>76.40</td>\n",
       "      <td>4.761905</td>\n",
       "      <td>3.8200</td>\n",
       "      <td>9.6</td>\n",
       "    </tr>\n",
       "    <tr>\n",
       "      <th>2</th>\n",
       "      <td>631-41-3108</td>\n",
       "      <td>A</td>\n",
       "      <td>Yangon</td>\n",
       "      <td>Normal</td>\n",
       "      <td>Male</td>\n",
       "      <td>Home and lifestyle</td>\n",
       "      <td>46.33</td>\n",
       "      <td>7</td>\n",
       "      <td>16.2155</td>\n",
       "      <td>340.5255</td>\n",
       "      <td>3/3/2021</td>\n",
       "      <td>13:23</td>\n",
       "      <td>Credit card</td>\n",
       "      <td>324.31</td>\n",
       "      <td>4.761905</td>\n",
       "      <td>16.2155</td>\n",
       "      <td>7.4</td>\n",
       "    </tr>\n",
       "    <tr>\n",
       "      <th>3</th>\n",
       "      <td>123-19-1176</td>\n",
       "      <td>A</td>\n",
       "      <td>Yangon</td>\n",
       "      <td>Member</td>\n",
       "      <td>Male</td>\n",
       "      <td>Health and beauty</td>\n",
       "      <td>58.22</td>\n",
       "      <td>8</td>\n",
       "      <td>23.2880</td>\n",
       "      <td>489.0480</td>\n",
       "      <td>1/27/2021</td>\n",
       "      <td>20:33</td>\n",
       "      <td>Ewallet</td>\n",
       "      <td>465.76</td>\n",
       "      <td>4.761905</td>\n",
       "      <td>23.2880</td>\n",
       "      <td>8.4</td>\n",
       "    </tr>\n",
       "    <tr>\n",
       "      <th>4</th>\n",
       "      <td>373-73-7910</td>\n",
       "      <td>A</td>\n",
       "      <td>Yangon</td>\n",
       "      <td>Normal</td>\n",
       "      <td>Male</td>\n",
       "      <td>Sports and travel</td>\n",
       "      <td>86.31</td>\n",
       "      <td>7</td>\n",
       "      <td>30.2085</td>\n",
       "      <td>634.3785</td>\n",
       "      <td>2/8/2021</td>\n",
       "      <td>10:37</td>\n",
       "      <td>Ewallet</td>\n",
       "      <td>604.17</td>\n",
       "      <td>4.761905</td>\n",
       "      <td>30.2085</td>\n",
       "      <td>5.3</td>\n",
       "    </tr>\n",
       "  </tbody>\n",
       "</table>\n",
       "</div>"
      ],
      "text/plain": [
       "    Invoice ID Branch       City Customer_type  Gender  \\\n",
       "0  750-67-8428      A     Yangon        Member  Female   \n",
       "1  226-31-3081      C  Naypyitaw        Normal  Female   \n",
       "2  631-41-3108      A     Yangon        Normal    Male   \n",
       "3  123-19-1176      A     Yangon        Member    Male   \n",
       "4  373-73-7910      A     Yangon        Normal    Male   \n",
       "\n",
       "             Product line  Unit price  Quantity   Tax 5%     Total       Date  \\\n",
       "0       Health and beauty       74.69         7  26.1415  548.9715   1/5/2021   \n",
       "1  Electronic accessories       15.28         5   3.8200   80.2200   3/8/2021   \n",
       "2      Home and lifestyle       46.33         7  16.2155  340.5255   3/3/2021   \n",
       "3       Health and beauty       58.22         8  23.2880  489.0480  1/27/2021   \n",
       "4       Sports and travel       86.31         7  30.2085  634.3785   2/8/2021   \n",
       "\n",
       "    Time      Payment    cogs  gross margin percentage  gross income  Rating  \n",
       "0  13:08      Ewallet  522.83                 4.761905       26.1415     9.1  \n",
       "1  10:29         Cash   76.40                 4.761905        3.8200     9.6  \n",
       "2  13:23  Credit card  324.31                 4.761905       16.2155     7.4  \n",
       "3  20:33      Ewallet  465.76                 4.761905       23.2880     8.4  \n",
       "4  10:37      Ewallet  604.17                 4.761905       30.2085     5.3  "
      ]
     },
     "execution_count": 3,
     "metadata": {},
     "output_type": "execute_result"
    }
   ],
   "source": [
    "# read csv\n",
    "\n",
    "df = pd.read_csv(\"https://raw.githubusercontent.com/Sven-Bo/datasets/master/supermarket_sales.csv\")\n",
    "df.head()"
   ]
  },
  {
   "cell_type": "markdown",
   "id": "44af2da6-8204-4ce7-ab94-765059a56bcd",
   "metadata": {},
   "source": [
    "# Sketch DEMO"
   ]
  },
  {
   "cell_type": "code",
   "execution_count": 6,
   "id": "9e032ad1-9340-47e3-8cc1-8cfbb858a7b3",
   "metadata": {},
   "outputs": [
    {
     "data": {
      "text/html": [
       "\n",
       "This dataset contains information about customer purchases from a store, including the invoice ID, branch, city, customer type, gender, product line, unit price, quantity, tax 5%, total, date, time, payment method, cost of goods sold (COGS), gross margin percentage, gross income and rating."
      ],
      "text/plain": [
       "<IPython.core.display.HTML object>"
      ]
     },
     "metadata": {},
     "output_type": "display_data"
    }
   ],
   "source": [
    "# lets ask sketch what the dataset is about.\n",
    "df.sketch.ask(\"what is the dataset about?\")"
   ]
  },
  {
   "cell_type": "code",
   "execution_count": 12,
   "id": "efe106c9-6061-440f-8484-e134905e8796",
   "metadata": {},
   "outputs": [
    {
     "data": {
      "text/html": [
       "\n",
       "<ul>\n",
       "  <li><strong>Index:</strong> A numerical index of the rows in the dataframe.</li>\n",
       "  <li><strong>Invoice ID:</strong> A unique identifier for each invoice.</li>\n",
       "  <li><strong>Branch:</strong> The branch from which the invoice was issued.</li>\n",
       "  <li><strong>City:</strong> The city in which the branch is located.</li>\n",
       "  <li><strong>Customer_type:</strong> Whether the customer is a member or a normal customer.</li>\n",
       "  <li><strong>Gender:</strong> The gender of the customer.</li>\n",
       "  <li><strong>Product line:</strong> The type of product purchased.</li>\n",
       "  <li><strong>Unit price:</strong> The price of each unit purchased.</li>\n",
       "  <li><strong>Quantity:</strong> The number of units purchased.</li>\n",
       "  <li><strong>Tax 5%:</strong> The amount of tax charged on the purchase.</li>\n",
       "  <li><strong>Total:</strong> The total cost of the purchase including tax.</li>\n",
       "  <li><strong>Date:</strong> The date on which the purchase was made.</li>\n",
       "  <li><strong>Time:</strong> The time at which the purchase was made.</li>\n",
       "  <li><strong>Payment:</strong> The method of payment used for the purchase.</li>\n",
       "  <li><strong>COGS:</strong> The cost of goods sold for the purchase.</li>\n",
       "  <li><strong>Gross margin percentage:</strong> The percentage of profit made on the purchase.</li>\n",
       "  <li><strong>Gross income:</strong> The amount of profit made on the purchase.</li>\n",
       "  <li><strong>Rating:</strong> A rating given to the purchase by the customer.</li></ul>.\n"
      ],
      "text/plain": [
       "<IPython.core.display.HTML object>"
      ]
     },
     "metadata": {},
     "output_type": "display_data"
    }
   ],
   "source": [
    "# lets ask sketch to give us descriptions of the columns\n",
    "df.sketch.ask(\"Can you give me friendly names and single sentence descriptions of each column? (format output as HTML list)\")"
   ]
  },
  {
   "cell_type": "markdown",
   "id": "eab7f4d1-5efd-48eb-a632-73fb6c6b14ca",
   "metadata": {},
   "source": [
    "# Data Cleaning"
   ]
  },
  {
   "cell_type": "code",
   "execution_count": 14,
   "id": "523fb658-feea-4802-a473-90bf3fa119cc",
   "metadata": {},
   "outputs": [
    {
     "name": "stdout",
     "output_type": "stream",
     "text": [
      "The DataFrame has:\n",
      "\t* 1000 rows\n",
      "\t* 17 columns\n"
     ]
    }
   ],
   "source": [
    "# shape of the data \n",
    "def data_shape(data):\n",
    "    \"\"\"Simple function to provide the shape of the data\"\"\"\n",
    "    out = print(f\"The DataFrame has:\\n\\t* {data.shape[0]} rows\\n\\t* {data.shape[1]} columns\")\n",
    "\n",
    "    return out\n",
    "\n",
    "data_shape(df)"
   ]
  },
  {
   "cell_type": "code",
   "execution_count": 15,
   "id": "7f0775c5-4821-48d2-bf41-01010ac5d4bb",
   "metadata": {},
   "outputs": [
    {
     "name": "stdout",
     "output_type": "stream",
     "text": [
      "<class 'pandas.core.frame.DataFrame'>\n",
      "RangeIndex: 1000 entries, 0 to 999\n",
      "Data columns (total 17 columns):\n",
      " #   Column                   Non-Null Count  Dtype  \n",
      "---  ------                   --------------  -----  \n",
      " 0   Invoice ID               1000 non-null   object \n",
      " 1   Branch                   1000 non-null   object \n",
      " 2   City                     1000 non-null   object \n",
      " 3   Customer_type            1000 non-null   object \n",
      " 4   Gender                   1000 non-null   object \n",
      " 5   Product line             1000 non-null   object \n",
      " 6   Unit price               1000 non-null   float64\n",
      " 7   Quantity                 1000 non-null   int64  \n",
      " 8   Tax 5%                   1000 non-null   float64\n",
      " 9   Total                    1000 non-null   float64\n",
      " 10  Date                     1000 non-null   object \n",
      " 11  Time                     1000 non-null   object \n",
      " 12  Payment                  1000 non-null   object \n",
      " 13  cogs                     1000 non-null   float64\n",
      " 14  gross margin percentage  1000 non-null   float64\n",
      " 15  gross income             1000 non-null   float64\n",
      " 16  Rating                   1000 non-null   float64\n",
      "dtypes: float64(7), int64(1), object(9)\n",
      "memory usage: 132.9+ KB\n"
     ]
    }
   ],
   "source": [
    "# info for overview of the data\n",
    "df.info()"
   ]
  },
  {
   "cell_type": "code",
   "execution_count": 16,
   "id": "d139d9cb-e8cc-485a-9165-2a9e9b7fec45",
   "metadata": {},
   "outputs": [
    {
     "data": {
      "text/html": [
       "<div>\n",
       "<style scoped>\n",
       "    .dataframe tbody tr th:only-of-type {\n",
       "        vertical-align: middle;\n",
       "    }\n",
       "\n",
       "    .dataframe tbody tr th {\n",
       "        vertical-align: top;\n",
       "    }\n",
       "\n",
       "    .dataframe thead th {\n",
       "        text-align: right;\n",
       "    }\n",
       "</style>\n",
       "<table border=\"1\" class=\"dataframe\">\n",
       "  <thead>\n",
       "    <tr style=\"text-align: right;\">\n",
       "      <th></th>\n",
       "      <th>Unit price</th>\n",
       "      <th>Quantity</th>\n",
       "      <th>Tax 5%</th>\n",
       "      <th>Total</th>\n",
       "      <th>cogs</th>\n",
       "      <th>gross margin percentage</th>\n",
       "      <th>gross income</th>\n",
       "      <th>Rating</th>\n",
       "    </tr>\n",
       "  </thead>\n",
       "  <tbody>\n",
       "    <tr>\n",
       "      <th>count</th>\n",
       "      <td>1000.000000</td>\n",
       "      <td>1000.000000</td>\n",
       "      <td>1000.000000</td>\n",
       "      <td>1000.000000</td>\n",
       "      <td>1000.00000</td>\n",
       "      <td>1000.000000</td>\n",
       "      <td>1000.000000</td>\n",
       "      <td>1000.00000</td>\n",
       "    </tr>\n",
       "    <tr>\n",
       "      <th>mean</th>\n",
       "      <td>55.672130</td>\n",
       "      <td>5.510000</td>\n",
       "      <td>15.379369</td>\n",
       "      <td>322.966749</td>\n",
       "      <td>307.58738</td>\n",
       "      <td>4.761905</td>\n",
       "      <td>15.379369</td>\n",
       "      <td>6.97270</td>\n",
       "    </tr>\n",
       "    <tr>\n",
       "      <th>std</th>\n",
       "      <td>26.494628</td>\n",
       "      <td>2.923431</td>\n",
       "      <td>11.708825</td>\n",
       "      <td>245.885335</td>\n",
       "      <td>234.17651</td>\n",
       "      <td>0.000000</td>\n",
       "      <td>11.708825</td>\n",
       "      <td>1.71858</td>\n",
       "    </tr>\n",
       "    <tr>\n",
       "      <th>min</th>\n",
       "      <td>10.080000</td>\n",
       "      <td>1.000000</td>\n",
       "      <td>0.508500</td>\n",
       "      <td>10.678500</td>\n",
       "      <td>10.17000</td>\n",
       "      <td>4.761905</td>\n",
       "      <td>0.508500</td>\n",
       "      <td>4.00000</td>\n",
       "    </tr>\n",
       "    <tr>\n",
       "      <th>25%</th>\n",
       "      <td>32.875000</td>\n",
       "      <td>3.000000</td>\n",
       "      <td>5.924875</td>\n",
       "      <td>124.422375</td>\n",
       "      <td>118.49750</td>\n",
       "      <td>4.761905</td>\n",
       "      <td>5.924875</td>\n",
       "      <td>5.50000</td>\n",
       "    </tr>\n",
       "    <tr>\n",
       "      <th>50%</th>\n",
       "      <td>55.230000</td>\n",
       "      <td>5.000000</td>\n",
       "      <td>12.088000</td>\n",
       "      <td>253.848000</td>\n",
       "      <td>241.76000</td>\n",
       "      <td>4.761905</td>\n",
       "      <td>12.088000</td>\n",
       "      <td>7.00000</td>\n",
       "    </tr>\n",
       "    <tr>\n",
       "      <th>75%</th>\n",
       "      <td>77.935000</td>\n",
       "      <td>8.000000</td>\n",
       "      <td>22.445250</td>\n",
       "      <td>471.350250</td>\n",
       "      <td>448.90500</td>\n",
       "      <td>4.761905</td>\n",
       "      <td>22.445250</td>\n",
       "      <td>8.50000</td>\n",
       "    </tr>\n",
       "    <tr>\n",
       "      <th>max</th>\n",
       "      <td>99.960000</td>\n",
       "      <td>10.000000</td>\n",
       "      <td>49.650000</td>\n",
       "      <td>1042.650000</td>\n",
       "      <td>993.00000</td>\n",
       "      <td>4.761905</td>\n",
       "      <td>49.650000</td>\n",
       "      <td>10.00000</td>\n",
       "    </tr>\n",
       "  </tbody>\n",
       "</table>\n",
       "</div>"
      ],
      "text/plain": [
       "        Unit price     Quantity       Tax 5%        Total        cogs  \\\n",
       "count  1000.000000  1000.000000  1000.000000  1000.000000  1000.00000   \n",
       "mean     55.672130     5.510000    15.379369   322.966749   307.58738   \n",
       "std      26.494628     2.923431    11.708825   245.885335   234.17651   \n",
       "min      10.080000     1.000000     0.508500    10.678500    10.17000   \n",
       "25%      32.875000     3.000000     5.924875   124.422375   118.49750   \n",
       "50%      55.230000     5.000000    12.088000   253.848000   241.76000   \n",
       "75%      77.935000     8.000000    22.445250   471.350250   448.90500   \n",
       "max      99.960000    10.000000    49.650000  1042.650000   993.00000   \n",
       "\n",
       "       gross margin percentage  gross income      Rating  \n",
       "count              1000.000000   1000.000000  1000.00000  \n",
       "mean                  4.761905     15.379369     6.97270  \n",
       "std                   0.000000     11.708825     1.71858  \n",
       "min                   4.761905      0.508500     4.00000  \n",
       "25%                   4.761905      5.924875     5.50000  \n",
       "50%                   4.761905     12.088000     7.00000  \n",
       "75%                   4.761905     22.445250     8.50000  \n",
       "max                   4.761905     49.650000    10.00000  "
      ]
     },
     "execution_count": 16,
     "metadata": {},
     "output_type": "execute_result"
    }
   ],
   "source": [
    "# descriptive statistics\n",
    "df.describe()"
   ]
  },
  {
   "cell_type": "markdown",
   "id": "e14991e8-12c4-4702-98fe-c94844e57da2",
   "metadata": {},
   "source": [
    "## lets check for duplicates"
   ]
  },
  {
   "cell_type": "code",
   "execution_count": 17,
   "id": "705551fb-990d-446c-8d69-087386fbe7f0",
   "metadata": {},
   "outputs": [
    {
     "name": "stdout",
     "output_type": "stream",
     "text": [
      "The column Invoice Id has no duplicates\n"
     ]
    }
   ],
   "source": [
    "\n",
    "def unique_column_duplicates(data, column):\n",
    "    \"\"\"handling duplicates in unique column\"\"\"\n",
    "    # empty list to store the duplicate bools\n",
    "    duplicates = []\n",
    "    for i in data[column].duplicated():\n",
    "        duplicates.append(i)\n",
    "    \n",
    "    # identify if there are any duplicates\n",
    "    duplicates_set = set(duplicates)\n",
    "    if (len(duplicates_set) == 1):\n",
    "        print(f\"The column {column.title()} has no duplicates\")\n",
    "    else:\n",
    "        no_true = 0\n",
    "        for val in duplicates:\n",
    "            if (val == True):\n",
    "                no_true += 1\n",
    "        # percentage of the data represented by duplicates \n",
    "        duplicates_percentage = np.round(((no_true / len(data)) * 100), 3)\n",
    "        print(f\"The column {column.title()} has {no_true} duplicated rows.\\nThis constitutes {duplicates_percentage}% of the data set.\")\n",
    "\n",
    "\n",
    "unique_column_duplicates(df, \"Invoice ID\")"
   ]
  },
  {
   "cell_type": "markdown",
   "id": "c26b1317-7be9-4244-9072-b5dd6a0bda31",
   "metadata": {},
   "source": [
    "# EDA"
   ]
  },
  {
   "cell_type": "code",
   "execution_count": 13,
   "id": "33090e03-91b2-46fe-b57d-d135d3b5d1fc",
   "metadata": {},
   "outputs": [
    {
     "data": {
      "text/html": [
       "\n",
       "We could perform a variety of interesting analyses on this data. For example, we could look at the distribution of customer types, genders, and product lines to see which are most popular. We could also look at the relationship between unit price, quantity, and total to see how they are related. Additionally, we could analyze the ratings to see which products have the highest ratings. Finally, we could look at the gross margin percentage to see how profitable each product line is."
      ],
      "text/plain": [
       "<IPython.core.display.HTML object>"
      ]
     },
     "metadata": {},
     "output_type": "display_data"
    }
   ],
   "source": [
    "# lets ask sketch what interesting analysis we could do\n",
    "df.sketch.ask(\"what interesting analysis could we perform?\")"
   ]
  },
  {
   "cell_type": "markdown",
   "id": "2a06fce1-ebf0-4731-97df-897317fc1d4e",
   "metadata": {},
   "source": [
    "## Univariate analysis"
   ]
  },
  {
   "cell_type": "code",
   "execution_count": 19,
   "id": "0f353d4b-7d94-45cd-8330-35cc8c1c679a",
   "metadata": {},
   "outputs": [
    {
     "name": "stderr",
     "output_type": "stream",
     "text": [
      "WARNING:root:Module matplotlib not found, but part of suggestion. May need to pip install...\n"
     ]
    },
    {
     "data": {
      "text/html": [
       "<div style=\"display:flex;flex-direction:row;justify-content:space-between;\">\n",
       "                <pre style=\"width: 100%; white-space: pre-wrap;\" id=\"1cde6c84-58f3-4114-a924-cd5c46a576fe\">\n",
       "# Plot the distribution of customer types\n",
       "import matplotlib.pyplot as plt\n",
       "\n",
       "# Get the counts of each customer type\n",
       "customer_type_counts = df['Customer_type'].value_counts()\n",
       "\n",
       "# Plot the distribution of customer types\n",
       "plt.bar(customer_type_counts.index, customer_type_counts.values)\n",
       "plt.xlabel('Customer Type')\n",
       "plt.ylabel('Count')\n",
       "plt.title('Distribution of Customer Types')\n",
       "plt.show()\n",
       "</pre>\n",
       "                <button style=\"height: fit-content;\" onclick=\"navigator.clipboard.writeText(JSON.parse(atob(`IlxuIyBQbG90IHRoZSBkaXN0cmlidXRpb24gb2YgY3VzdG9tZXIgdHlwZXNcbmltcG9ydCBtYXRwbG90bGliLnB5cGxvdCBhcyBwbHRcblxuIyBHZXQgdGhlIGNvdW50cyBvZiBlYWNoIGN1c3RvbWVyIHR5cGVcbmN1c3RvbWVyX3R5cGVfY291bnRzID0gZGZbJ0N1c3RvbWVyX3R5cGUnXS52YWx1ZV9jb3VudHMoKVxuXG4jIFBsb3QgdGhlIGRpc3RyaWJ1dGlvbiBvZiBjdXN0b21lciB0eXBlc1xucGx0LmJhcihjdXN0b21lcl90eXBlX2NvdW50cy5pbmRleCwgY3VzdG9tZXJfdHlwZV9jb3VudHMudmFsdWVzKVxucGx0LnhsYWJlbCgnQ3VzdG9tZXIgVHlwZScpXG5wbHQueWxhYmVsKCdDb3VudCcpXG5wbHQudGl0bGUoJ0Rpc3RyaWJ1dGlvbiBvZiBDdXN0b21lciBUeXBlcycpXG5wbHQuc2hvdygpXG4i`)))\">Copy</button>\n",
       "                </div>"
      ],
      "text/plain": [
       "<IPython.core.display.HTML object>"
      ]
     },
     "metadata": {},
     "output_type": "display_data"
    }
   ],
   "source": [
    "# lets ask sketch to show us how to look at the distribution of customer types.\n",
    "df.sketch.howto(\"Plot the distribution of customer types\")"
   ]
  },
  {
   "cell_type": "code",
   "execution_count": 27,
   "id": "43da2d1c-1aab-4d12-85f7-2c550ff992f4",
   "metadata": {},
   "outputs": [
    {
     "data": {
      "image/png": "[encoded data removed]",
      "text/plain": [
       "<Figure size 640x480 with 1 Axes>"
      ]
     },
     "metadata": {},
     "output_type": "display_data"
    }
   ],
   "source": [
    "# Plot the distribution of customer types\n",
    "\n",
    "# Get the counts of each customer type\n",
    "customer_type_counts = df['Customer_type'].value_counts()\n",
    "\n",
    "# Plot the distribution of customer types\n",
    "plt.bar(customer_type_counts.index, customer_type_counts.values)\n",
    "plt.xlabel('Customer Type')\n",
    "plt.ylabel('Count')\n",
    "plt.title('Distribution of Customer Types')\n",
    "plt.show()\n"
   ]
  },
  {
   "cell_type": "markdown",
   "id": "8201d221-a2eb-4d89-9037-c42a75f4b010",
   "metadata": {},
   "source": [
    "* The distribution looks fairly equal.\n",
    "  "
   ]
  },
  {
   "cell_type": "code",
   "execution_count": 30,
   "id": "51d0751c-dead-4ec2-8424-9fd9c3af39ea",
   "metadata": {},
   "outputs": [
    {
     "data": {
      "image/png": "[encoded data removed]",
      "text/plain": [
       "<Figure size 640x480 with 1 Axes>"
      ]
     },
     "metadata": {},
     "output_type": "display_data"
    }
   ],
   "source": [
    "# Plot the distribution of gender\n",
    "\n",
    "# Get the counts of each customer type\n",
    "gender_counts = df['Gender'].value_counts()\n",
    "\n",
    "# Plot the distribution of customer types\n",
    "plt.bar(gender_counts.index, gender_counts.values)\n",
    "plt.xlabel('Gender')\n",
    "plt.ylabel('Count')\n",
    "plt.title('Distribution of Gender')\n",
    "plt.show();"
   ]
  },
  {
   "cell_type": "markdown",
   "id": "b369d1b1-f0d3-4e46-aec7-7356fe19f3de",
   "metadata": {},
   "source": [
    "* The distribution looks fairly equal."
   ]
  },
  {
   "cell_type": "code",
   "execution_count": 31,
   "id": "613ae611-bdee-4439-94b6-cad210daaf12",
   "metadata": {},
   "outputs": [
    {
     "data": {
      "text/plain": [
       "Index(['Invoice ID', 'Branch', 'City', 'Customer_type', 'Gender',\n",
       "       'Product line', 'Unit price', 'Quantity', 'Tax 5%', 'Total', 'Date',\n",
       "       'Time', 'Payment', 'cogs', 'gross margin percentage', 'gross income',\n",
       "       'Rating'],\n",
       "      dtype='object')"
      ]
     },
     "execution_count": 31,
     "metadata": {},
     "output_type": "execute_result"
    }
   ],
   "source": [
    "df.columns"
   ]
  },
  {
   "cell_type": "code",
   "execution_count": 32,
   "id": "986b0001-565a-41db-a8e8-d18c8ce074d8",
   "metadata": {},
   "outputs": [
    {
     "data": {
      "text/html": [
       "<div style=\"display:flex;flex-direction:row;justify-content:space-between;\">\n",
       "                <pre style=\"width: 100%; white-space: pre-wrap;\" id=\"dd7b0617-58e7-430d-bd67-b118452fd83d\">\n",
       "# Plot the distribution of Product line\n",
       "import matplotlib.pyplot as plt\n",
       "\n",
       "# Get the counts of each product line\n",
       "product_line_counts = df['Product line'].value_counts()\n",
       "\n",
       "# Plot the distribution of product lines\n",
       "plt.bar(product_line_counts.index, product_line_counts.values)\n",
       "plt.xlabel('Product Line')\n",
       "plt.ylabel('Count')\n",
       "plt.title('Distribution of Product Line')\n",
       "plt.show()\n",
       "</pre>\n",
       "                <button style=\"height: fit-content;\" onclick=\"navigator.clipboard.writeText(JSON.parse(atob(`IlxuIyBQbG90IHRoZSBkaXN0cmlidXRpb24gb2YgUHJvZHVjdCBsaW5lXG5pbXBvcnQgbWF0cGxvdGxpYi5weXBsb3QgYXMgcGx0XG5cbiMgR2V0IHRoZSBjb3VudHMgb2YgZWFjaCBwcm9kdWN0IGxpbmVcbnByb2R1Y3RfbGluZV9jb3VudHMgPSBkZlsnUHJvZHVjdCBsaW5lJ10udmFsdWVfY291bnRzKClcblxuIyBQbG90IHRoZSBkaXN0cmlidXRpb24gb2YgcHJvZHVjdCBsaW5lc1xucGx0LmJhcihwcm9kdWN0X2xpbmVfY291bnRzLmluZGV4LCBwcm9kdWN0X2xpbmVfY291bnRzLnZhbHVlcylcbnBsdC54bGFiZWwoJ1Byb2R1Y3QgTGluZScpXG5wbHQueWxhYmVsKCdDb3VudCcpXG5wbHQudGl0bGUoJ0Rpc3RyaWJ1dGlvbiBvZiBQcm9kdWN0IExpbmUnKVxucGx0LnNob3coKVxuIg==`)))\">Copy</button>\n",
       "                </div>"
      ],
      "text/plain": [
       "<IPython.core.display.HTML object>"
      ]
     },
     "metadata": {},
     "output_type": "display_data"
    }
   ],
   "source": [
    "# lets ask sketch to plot distribution of product lines\n",
    "df.sketch.howto(\"plot the distribution of Product line\")"
   ]
  },
  {
   "cell_type": "code",
   "execution_count": 35,
   "id": "68bd0d2a-9d6a-408a-b9a0-82db0bfd0b52",
   "metadata": {},
   "outputs": [
    {
     "data": {
      "image/png": "[encoded data removed]",
      "text/plain": [
       "<Figure size 1500x600 with 1 Axes>"
      ]
     },
     "metadata": {},
     "output_type": "display_data"
    }
   ],
   "source": [
    "\n",
    "# Plot the distribution of Product line\n",
    "\n",
    "# Get the counts of each product line\n",
    "product_line_counts = df['Product line'].value_counts()\n",
    "\n",
    "# Plot the distribution of product lines\n",
    "plt.figure(figsize=(15,6))\n",
    "plt.bar(product_line_counts.index, product_line_counts.values)\n",
    "plt.xlabel('Product Line')\n",
    "plt.ylabel('Count')\n",
    "plt.title('Distribution of Product Line')\n",
    "plt.show()\n"
   ]
  },
  {
   "cell_type": "code",
   "execution_count": null,
   "id": "c26fb7f5-a7d9-4e29-aa9d-fe022de34f1d",
   "metadata": {},
   "outputs": [],
   "source": []
  },
  {
   "cell_type": "code",
   "execution_count": null,
   "id": "d41825f1-4e41-4e6b-8b77-cfa3ff35121d",
   "metadata": {},
   "outputs": [],
   "source": []
  },
  {
   "cell_type": "code",
   "execution_count": null,
   "id": "730ff741-3c4b-4b2e-832f-07620952aad1",
   "metadata": {},
   "outputs": [],
   "source": []
  }
 ],
 "metadata": {
  "kernelspec": {
   "display_name": "Python 3 (ipykernel)",
   "language": "python",
   "name": "python3"
  },
  "language_info": {
   "codemirror_mode": {
    "name": "ipython",
    "version": 3
   },
   "file_extension": ".py",
   "mimetype": "text/x-python",
   "name": "python",
   "nbconvert_exporter": "python",
   "pygments_lexer": "ipython3",
   "version": "3.11.4"
  }
 },
 "nbformat": 4,
 "nbformat_minor": 5
}
